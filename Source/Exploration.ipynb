{
 "cells": [
  {
   "cell_type": "markdown",
   "metadata": {},
   "source": [
    "## 0. Tổng quan\n",
    "- Đây là bộ dữ liệu về mua bán xe cũ ở Việt Nam bắt đầu từ năm 2023. Dữ liệu bao gồm thông tin về giá cả, số kilomet đã chạy, thông tin về người bán bao gồm số điện thoại, tên , website bán (nếu có),...  \n",
    "    - Dữ liệu được lưu trong file: `car_detail_en.csv`\n",
    "    - Nguồn dữ liệu: [Vietnamese Car Price](https://www.kaggle.com/datasets/nguynthanhlun/vietnamese-car-price?select=seller_en.csv)"
   ]
  },
  {
   "cell_type": "markdown",
   "metadata": {},
   "source": [
    "## 1. Khai báo thư viện"
   ]
  },
  {
   "cell_type": "code",
   "execution_count": 1,
   "metadata": {},
   "outputs": [],
   "source": [
    "# import libraries\n",
    "import numpy as np\n",
    "import pandas as pd\n",
    "import matplotlib.pyplot as plt\n",
    "import re\n",
    "import warnings\n",
    "warnings.simplefilter('ignore')"
   ]
  },
  {
   "cell_type": "markdown",
   "metadata": {},
   "source": [
    "## 2. Đọc dữ liệu"
   ]
  },
  {
   "cell_type": "code",
   "execution_count": 7,
   "metadata": {},
   "outputs": [
    {
     "data": {
      "text/html": [
       "<div>\n",
       "<style scoped>\n",
       "    .dataframe tbody tr th:only-of-type {\n",
       "        vertical-align: middle;\n",
       "    }\n",
       "\n",
       "    .dataframe tbody tr th {\n",
       "        vertical-align: top;\n",
       "    }\n",
       "\n",
       "    .dataframe thead th {\n",
       "        text-align: right;\n",
       "    }\n",
       "</style>\n",
       "<table border=\"1\" class=\"dataframe\">\n",
       "  <thead>\n",
       "    <tr style=\"text-align: right;\">\n",
       "      <th></th>\n",
       "      <th>ad_id</th>\n",
       "      <th>origin</th>\n",
       "      <th>condition</th>\n",
       "      <th>car_model</th>\n",
       "      <th>mileage</th>\n",
       "      <th>exterior_color</th>\n",
       "      <th>interior_color</th>\n",
       "      <th>num_of_doors</th>\n",
       "      <th>seating_capacity</th>\n",
       "      <th>engine</th>\n",
       "      <th>...</th>\n",
       "      <th>transmission</th>\n",
       "      <th>drive_type</th>\n",
       "      <th>fuel_consumption</th>\n",
       "      <th>describe</th>\n",
       "      <th>brand</th>\n",
       "      <th>grade</th>\n",
       "      <th>year_of_manufacture</th>\n",
       "      <th>car_name</th>\n",
       "      <th>price. price</th>\n",
       "      <th>url</th>\n",
       "    </tr>\n",
       "  </thead>\n",
       "  <tbody>\n",
       "    <tr>\n",
       "      <th>0</th>\n",
       "      <td>17042</td>\n",
       "      <td>Domestic assembly</td>\n",
       "      <td>New car</td>\n",
       "      <td>Truck</td>\n",
       "      <td>0 Km</td>\n",
       "      <td>White</td>\n",
       "      <td>gray</td>\n",
       "      <td>2-door</td>\n",
       "      <td>2-seat</td>\n",
       "      <td>Petrol\\t1.0 L</td>\n",
       "      <td>...</td>\n",
       "      <td>Manual</td>\n",
       "      <td>RFD - Rear-wheel drive</td>\n",
       "      <td>L/100Km</td>\n",
       "      <td>Super Carry Truck 5-pound mezzanine is equipp...</td>\n",
       "      <td>Suzuki</td>\n",
       "      <td>Super Carry Truck</td>\n",
       "      <td>2022.0</td>\n",
       "      <td>Suzuki Super Carry Truck 1.0 MT 2022</td>\n",
       "      <td>249 Million</td>\n",
       "      <td>https://bonbanh.com/xe-suzuki-super_carry_truc...</td>\n",
       "    </tr>\n",
       "    <tr>\n",
       "      <th>1</th>\n",
       "      <td>53794</td>\n",
       "      <td>Imported</td>\n",
       "      <td>New car</td>\n",
       "      <td>SUV</td>\n",
       "      <td>0 Km</td>\n",
       "      <td>Black</td>\n",
       "      <td>Black</td>\n",
       "      <td>5-door</td>\n",
       "      <td>7-seat</td>\n",
       "      <td>Petrol\\t3.4 L</td>\n",
       "      <td>...</td>\n",
       "      <td>Automatic</td>\n",
       "      <td>AWD - 4-wheel drive (AWD)</td>\n",
       "      <td>10\\tL/100Km</td>\n",
       "      <td>New Toyota LANDCRUISER 300, imported from Japa...</td>\n",
       "      <td>Toyota</td>\n",
       "      <td>Land Cruiser</td>\n",
       "      <td>2022.0</td>\n",
       "      <td>Toyota Land Cruiser 3.5 V6 2022</td>\n",
       "      <td>4 Billion 286 Million</td>\n",
       "      <td>https://bonbanh.com/xe-toyota-land_cruiser-3.5...</td>\n",
       "    </tr>\n",
       "    <tr>\n",
       "      <th>2</th>\n",
       "      <td>73954</td>\n",
       "      <td>Domestic assembly</td>\n",
       "      <td>New car</td>\n",
       "      <td>Crossover</td>\n",
       "      <td>0 Km</td>\n",
       "      <td>Silver</td>\n",
       "      <td>Brown</td>\n",
       "      <td>5-door</td>\n",
       "      <td>8-seat</td>\n",
       "      <td>Petrol\\t2.0 L</td>\n",
       "      <td>...</td>\n",
       "      <td>Automatic</td>\n",
       "      <td>RFD - Rear-wheel drive</td>\n",
       "      <td>L/100Km</td>\n",
       "      <td>**Registration fee support worth 15 million VN...</td>\n",
       "      <td>Toyota</td>\n",
       "      <td>Innova</td>\n",
       "      <td>2023.0</td>\n",
       "      <td>Toyota Innova G 2.0 AT 2023 car</td>\n",
       "      <td>885 Million</td>\n",
       "      <td>https://bonbanh.com/xe-toyota-innova-g-2.0-at-...</td>\n",
       "    </tr>\n",
       "    <tr>\n",
       "      <th>3</th>\n",
       "      <td>74150</td>\n",
       "      <td>Imported</td>\n",
       "      <td>New car</td>\n",
       "      <td>SUV</td>\n",
       "      <td>0 Km</td>\n",
       "      <td>White</td>\n",
       "      <td>Black</td>\n",
       "      <td>5-door</td>\n",
       "      <td>5-seat</td>\n",
       "      <td>Petrol\\t1.8 L</td>\n",
       "      <td>...</td>\n",
       "      <td>Automatic</td>\n",
       "      <td>FWD - Front-wheel drive</td>\n",
       "      <td>L/100Km</td>\n",
       "      <td>2 interior colors: black, red brown - Car ava...</td>\n",
       "      <td>Toyota</td>\n",
       "      <td>Corolla Cross</td>\n",
       "      <td>2023.0</td>\n",
       "      <td>Toyota Corolla Cross 1.8G 2023</td>\n",
       "      <td>754 Million</td>\n",
       "      <td>https://bonbanh.com/xe-toyota-corolla_cross-1....</td>\n",
       "    </tr>\n",
       "    <tr>\n",
       "      <th>4</th>\n",
       "      <td>87573</td>\n",
       "      <td>Domestic assembly</td>\n",
       "      <td>New car</td>\n",
       "      <td>Crossover</td>\n",
       "      <td>0 Km</td>\n",
       "      <td>Silver</td>\n",
       "      <td>gray</td>\n",
       "      <td>5-door</td>\n",
       "      <td>8-seat</td>\n",
       "      <td>Petrol\\t2.0 L</td>\n",
       "      <td>...</td>\n",
       "      <td>Automatic</td>\n",
       "      <td>RFD - Rear-wheel drive</td>\n",
       "      <td>L/100Km</td>\n",
       "      <td>Toyota Innova G 100% new Equipped with 2.0 eng...</td>\n",
       "      <td>Toyota</td>\n",
       "      <td>Innova</td>\n",
       "      <td>2022.0</td>\n",
       "      <td>Toyota Innova G 2.0 AT 2022 car</td>\n",
       "      <td>850 Million</td>\n",
       "      <td>https://bonbanh.com/xe-toyota-innova-g-2.0-at-...</td>\n",
       "    </tr>\n",
       "  </tbody>\n",
       "</table>\n",
       "<p>5 rows × 21 columns</p>\n",
       "</div>"
      ],
      "text/plain": [
       "   ad_id             origin condition  car_model mileage exterior_color  \\\n",
       "0  17042  Domestic assembly   New car      Truck    0 Km          White   \n",
       "1  53794           Imported   New car        SUV    0 Km          Black   \n",
       "2  73954  Domestic assembly   New car  Crossover    0 Km         Silver   \n",
       "3  74150           Imported   New car        SUV    0 Km          White   \n",
       "4  87573  Domestic assembly   New car  Crossover    0 Km         Silver   \n",
       "\n",
       "  interior_color num_of_doors seating_capacity         engine  ...  \\\n",
       "0           gray       2-door           2-seat  Petrol\\t1.0 L  ...   \n",
       "1          Black       5-door           7-seat  Petrol\\t3.4 L  ...   \n",
       "2          Brown       5-door           8-seat  Petrol\\t2.0 L  ...   \n",
       "3          Black       5-door           5-seat  Petrol\\t1.8 L  ...   \n",
       "4           gray       5-door           8-seat  Petrol\\t2.0 L  ...   \n",
       "\n",
       "  transmission                 drive_type fuel_consumption  \\\n",
       "0       Manual     RFD - Rear-wheel drive          L/100Km   \n",
       "1    Automatic  AWD - 4-wheel drive (AWD)      10\\tL/100Km   \n",
       "2    Automatic     RFD - Rear-wheel drive          L/100Km   \n",
       "3    Automatic    FWD - Front-wheel drive          L/100Km   \n",
       "4    Automatic     RFD - Rear-wheel drive          L/100Km   \n",
       "\n",
       "                                            describe   brand  \\\n",
       "0   Super Carry Truck 5-pound mezzanine is equipp...  Suzuki   \n",
       "1  New Toyota LANDCRUISER 300, imported from Japa...  Toyota   \n",
       "2  **Registration fee support worth 15 million VN...  Toyota   \n",
       "3   2 interior colors: black, red brown - Car ava...  Toyota   \n",
       "4  Toyota Innova G 100% new Equipped with 2.0 eng...  Toyota   \n",
       "\n",
       "               grade year_of_manufacture  \\\n",
       "0  Super Carry Truck              2022.0   \n",
       "1       Land Cruiser              2022.0   \n",
       "2             Innova              2023.0   \n",
       "3      Corolla Cross              2023.0   \n",
       "4             Innova              2022.0   \n",
       "\n",
       "                               car_name           price. price  \\\n",
       "0  Suzuki Super Carry Truck 1.0 MT 2022            249 Million   \n",
       "1       Toyota Land Cruiser 3.5 V6 2022  4 Billion 286 Million   \n",
       "2       Toyota Innova G 2.0 AT 2023 car            885 Million   \n",
       "3        Toyota Corolla Cross 1.8G 2023            754 Million   \n",
       "4       Toyota Innova G 2.0 AT 2022 car            850 Million   \n",
       "\n",
       "                                                 url  \n",
       "0  https://bonbanh.com/xe-suzuki-super_carry_truc...  \n",
       "1  https://bonbanh.com/xe-toyota-land_cruiser-3.5...  \n",
       "2  https://bonbanh.com/xe-toyota-innova-g-2.0-at-...  \n",
       "3  https://bonbanh.com/xe-toyota-corolla_cross-1....  \n",
       "4  https://bonbanh.com/xe-toyota-innova-g-2.0-at-...  \n",
       "\n",
       "[5 rows x 21 columns]"
      ]
     },
     "execution_count": 7,
     "metadata": {},
     "output_type": "execute_result"
    }
   ],
   "source": [
    "df = pd.read_csv('C:/Users/admin/LTKHDL_2024/Data/car_detail_en.csv', encoding = 'utf-8', encoding_errors= 'ignore')\n",
    "df.head(5)"
   ]
  },
  {
   "cell_type": "markdown",
   "metadata": {},
   "source": [
    "## 3. Khám phá dữ liệu\n",
    "### 3.1. Số lượng dòng, cột của bộ dữ liệu"
   ]
  },
  {
   "cell_type": "code",
   "execution_count": 9,
   "metadata": {},
   "outputs": [
    {
     "name": "stdout",
     "output_type": "stream",
     "text": [
      "Số lượng dòng: 30652 , cột:  21\n"
     ]
    }
   ],
   "source": [
    "n_rows, n_cols = df.shape\n",
    "print(\"Số lượng dòng:\", n_rows, \", cột: \", n_cols)"
   ]
  },
  {
   "cell_type": "markdown",
   "metadata": {},
   "source": [
    "### 3.2. Ý nghĩa mỗi cột"
   ]
  },
  {
   "cell_type": "code",
   "execution_count": 10,
   "metadata": {},
   "outputs": [
    {
     "data": {
      "text/plain": [
       "Index(['ad_id', 'origin', 'condition', 'car_model', 'mileage',\n",
       "       'exterior_color', 'interior_color', 'num_of_doors', 'seating_capacity',\n",
       "       'engine', 'fuel_system', 'transmission', 'drive_type',\n",
       "       'fuel_consumption', 'describe', 'brand', 'grade', 'year_of_manufacture',\n",
       "       'car_name', 'price. price', 'url'],\n",
       "      dtype='object')"
      ]
     },
     "execution_count": 10,
     "metadata": {},
     "output_type": "execute_result"
    }
   ],
   "source": [
    "df.columns"
   ]
  },
  {
   "cell_type": "markdown",
   "metadata": {},
   "source": [
    "- Dữ liệu có 21 cột bao gồm thông tin về xe như:\n",
    "    - `ad_id`: Biển số xe\n",
    "    - `origin`: Xuất xứ\n",
    "    - `condition`: Tình trạng\n",
    "    - `car_model`: Dòng xe\n",
    "    - `mileage`: Số kilomet đã đi\n",
    "    - `exterior_color`: Màu xe\n",
    "    - `interior_color`: Màu nội thất trong xe\n",
    "    - `num_of_doors`: Số cửa\n",
    "    - `seating_capacity`: Số chỗ ngồi \n",
    "    - `engine`: Động cơ\n",
    "    - `fuel_system`: Hệ thống nạp nhiên liệu\n",
    "    - `transmission`: Hộp số\n",
    "    - `drive_type`: Dẫn động\n",
    "    - `fuel_consumption`: Tiêu thụ nhiên liệu\n",
    "    - `describe`: mô tả \n",
    "    - `brand`: Hãng\n",
    "    - `grade`: Dòng xe\n",
    "    - `year_of_manufacture`: Năm sản xuất\n",
    "    - `car_name`: Tên xe \n",
    "    - `price. price`: Giá \n",
    "    - `url`: Link website bán (nếu có)"
   ]
  },
  {
   "cell_type": "markdown",
   "metadata": {},
   "source": [
    "### 3.3. Kiểu dữ liệu của mỗi cột"
   ]
  },
  {
   "cell_type": "code",
   "execution_count": 11,
   "metadata": {},
   "outputs": [
    {
     "name": "stdout",
     "output_type": "stream",
     "text": [
      "<class 'pandas.core.frame.DataFrame'>\n",
      "RangeIndex: 30652 entries, 0 to 30651\n",
      "Data columns (total 21 columns):\n",
      " #   Column               Non-Null Count  Dtype  \n",
      "---  ------               --------------  -----  \n",
      " 0   ad_id                30652 non-null  int64  \n",
      " 1   origin               30652 non-null  object \n",
      " 2   condition            30652 non-null  object \n",
      " 3   car_model            30652 non-null  object \n",
      " 4   mileage              30652 non-null  object \n",
      " 5   exterior_color       30652 non-null  object \n",
      " 6   interior_color       30652 non-null  object \n",
      " 7   num_of_doors         30652 non-null  object \n",
      " 8   seating_capacity     30652 non-null  object \n",
      " 9   engine               30652 non-null  object \n",
      " 10  fuel_system          6742 non-null   object \n",
      " 11  transmission         30652 non-null  object \n",
      " 12  drive_type           30652 non-null  object \n",
      " 13  fuel_consumption     30652 non-null  object \n",
      " 14  describe             30652 non-null  object \n",
      " 15  brand                30652 non-null  object \n",
      " 16  grade                30652 non-null  object \n",
      " 17  year_of_manufacture  30620 non-null  float64\n",
      " 18  car_name             30652 non-null  object \n",
      " 19  price. price         30652 non-null  object \n",
      " 20  url                  30652 non-null  object \n",
      "dtypes: float64(1), int64(1), object(19)\n",
      "memory usage: 4.9+ MB\n"
     ]
    }
   ],
   "source": [
    "df.info()"
   ]
  },
  {
   "cell_type": "markdown",
   "metadata": {},
   "source": [
    "- Các cột nhìn chung có kiểu dữ liệu phù hợp.\n",
    "- Có thể thay đổi các kiểu dữ liệu của các cột như `num_of_doors`, `seating_capacity`,`price. price` để dễ cho việc phân tích sau này."
   ]
  },
  {
   "cell_type": "markdown",
   "metadata": {},
   "source": [
    "### 3.4. Các cột có dữ liệu NaN"
   ]
  },
  {
   "cell_type": "code",
   "execution_count": 12,
   "metadata": {},
   "outputs": [
    {
     "data": {
      "text/plain": [
       "ad_id                      0\n",
       "origin                     0\n",
       "condition                  0\n",
       "car_model                  0\n",
       "mileage                    0\n",
       "exterior_color             0\n",
       "interior_color             0\n",
       "num_of_doors               0\n",
       "seating_capacity           0\n",
       "engine                     0\n",
       "fuel_system            23910\n",
       "transmission               0\n",
       "drive_type                 0\n",
       "fuel_consumption           0\n",
       "describe                   0\n",
       "brand                      0\n",
       "grade                      0\n",
       "year_of_manufacture       32\n",
       "car_name                   0\n",
       "price. price               0\n",
       "url                        0\n",
       "dtype: int64"
      ]
     },
     "execution_count": 12,
     "metadata": {},
     "output_type": "execute_result"
    }
   ],
   "source": [
    "na_counts = df.isna().sum()\n",
    "na_counts"
   ]
  },
  {
   "cell_type": "markdown",
   "metadata": {},
   "source": [
    "- Có nhiều dữ liệu NaN ở `fuel_system (Hệ thống nạp nhiên liệu)` có thể xóa đi.\n",
    "- Và một số ít ở `year_of_manufacture (Năm sản xuất)` không làm ảnh hưởng nhiều đến phân tích sau này. "
   ]
  },
  {
   "cell_type": "markdown",
   "metadata": {},
   "source": [
    "### 3.5. Sự trùng lặp ở các dòng"
   ]
  },
  {
   "cell_type": "code",
   "execution_count": 14,
   "metadata": {},
   "outputs": [
    {
     "name": "stdout",
     "output_type": "stream",
     "text": [
      "Số dòng bị trùng lặp: 0\n"
     ]
    }
   ],
   "source": [
    "duplicate_rows = df[df.duplicated()]\n",
    "print(f\"Số dòng bị trùng lặp: {duplicate_rows.shape[0]}\")\n"
   ]
  }
 ],
 "metadata": {
  "kernelspec": {
   "display_name": "Python 3",
   "language": "python",
   "name": "python3"
  },
  "language_info": {
   "codemirror_mode": {
    "name": "ipython",
    "version": 3
   },
   "file_extension": ".py",
   "mimetype": "text/x-python",
   "name": "python",
   "nbconvert_exporter": "python",
   "pygments_lexer": "ipython3",
   "version": "3.10.8"
  }
 },
 "nbformat": 4,
 "nbformat_minor": 2
}
